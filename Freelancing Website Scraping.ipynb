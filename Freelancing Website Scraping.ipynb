{
 "cells": [
  {
   "cell_type": "code",
   "execution_count": 1,
   "id": "b0dca881",
   "metadata": {},
   "outputs": [],
   "source": [
    "from bs4 import BeautifulSoup\n",
    "import urllib.request\n",
    "import re\n",
    "import pandas as pd\n",
    "import sys "
   ]
  },
  {
   "cell_type": "code",
   "execution_count": 2,
   "id": "ecd5c9a9",
   "metadata": {},
   "outputs": [],
   "source": [
    "html = urllib.request.urlopen('https://www.freelancer.com/job/')\n",
    "webpage = BeautifulSoup(html, 'html.parser')\n",
    "dataset = {\"Skill\":[], \"Jobs\":[], \"Category\":[]}"
   ]
  },
  {
   "cell_type": "code",
   "execution_count": 4,
   "id": "b50f13eb",
   "metadata": {},
   "outputs": [
    {
     "name": "stdout",
     "output_type": "stream",
     "text": [
      "Data Stored and Dataset created!\n"
     ]
    }
   ],
   "source": [
    "for category in webpage.find_all(\"section\", attrs={\"class\":\"PageJob-category\"}):\n",
    "    myCategory = category.find(\"h3\", attrs={\"class\":\"PageJob-category-title\"}).get_text()\n",
    "    # Grab each grid and iterate through each row\n",
    "    for grid in category.find_all(\"ul\", attrs={\"class\":\"PageJob-browse-list Grid\"}):\n",
    "        for element in grid.find_all(\"a\", attrs={\"class\":re.compile(\"PageJob-category-link $\")}):\n",
    "            \n",
    "            name, jobs = re.findall(r\"([^\\(]*)\\xa0\\((.*)\\)\", element.get_text().strip())[0]\n",
    "            dataset[\"Skill\"].append(name)\n",
    "            dataset[\"Jobs\"].append(jobs)\n",
    "            dataset[\"Category\"].append(myCategory[:myCategory.rfind(\"(\")].strip())\n",
    "\n",
    "# Determine the filename that we'll be writing to file.\n",
    "# Defaults to Output.csv\n",
    "filename = \"Freelance-Scraping.csv\"\n",
    "if len(sys.argv) == 2:\n",
    "    filename = sys.argv[1]\n",
    "df = pd.DataFrame(dataset)\n",
    "# NOTE: DataFrame will order columns by alphabet\n",
    "# We'll change the ordering\n",
    "df = df[[\"Skill\", \"Jobs\", \"Category\"]]\n",
    "df.to_csv(filename)\n",
    "print(\"Data Stored and Dataset created!\")"
   ]
  },
  {
   "cell_type": "code",
   "execution_count": null,
   "id": "3964b592",
   "metadata": {},
   "outputs": [],
   "source": []
  }
 ],
 "metadata": {
  "kernelspec": {
   "display_name": "Python 3 (ipykernel)",
   "language": "python",
   "name": "python3"
  },
  "language_info": {
   "codemirror_mode": {
    "name": "ipython",
    "version": 3
   },
   "file_extension": ".py",
   "mimetype": "text/x-python",
   "name": "python",
   "nbconvert_exporter": "python",
   "pygments_lexer": "ipython3",
   "version": "3.7.15"
  }
 },
 "nbformat": 4,
 "nbformat_minor": 5
}
